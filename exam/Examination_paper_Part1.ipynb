{
 "cells": [
  {
   "cell_type": "code",
   "execution_count": 1,
   "source": [
    "import torch\n",
    "import torch.nn as nn\n",
    "import torch.nn.functional as F\n",
    "import torch.optim as optim\n",
    "from torchvision import datasets, transforms\n",
    "\n",
    "import numpy as np\n",
    "import matplotlib.pyplot as plt\n"
   ],
   "outputs": [],
   "metadata": {}
  },
  {
   "cell_type": "markdown",
   "source": [
    "# （一）选择题和判断题\n",
    "### (1) 神经元节点执行的运算是什么？（选择题 2分）\n",
    "- a. 先执行 $a=W_1x+b_1$运算, 然后执行$y_2 = W_2 a + b_2$运算。\n",
    "- b. 先执行非线性运算$a = g(x)$, 然后执行$y = Wa+b$。\n",
    "- c. 先执行$a = Wx+b$运算，然后执行非线性运算$y=g(a)$。\n",
    "- d. 先计算$a = g_1(x)$，然后执行非线性运算$y = g_2(a)$\n",
    "\n",
    "答案： C"
   ],
   "metadata": {}
  },
  {
   "cell_type": "markdown",
   "source": [
    "### (2) 彩色图片$x$为数组$(3,28,28)$, 把$x$ 转换为一个列向量 （代码设计题 1分）。然后设计sigmoid函数，并把列向量$x$输入sigmoid函数并打印出第6个元素的值（代码设计题 2分）\n"
   ],
   "metadata": {}
  },
  {
   "cell_type": "code",
   "execution_count": 5,
   "source": [
    "x = torch.ones(3,28,28)\n",
    "#%%%%%%%%%%%%%%%%%%%%%%%%%%%%%%%%%%%%%%%\n",
    "# 设计代码的位置\n",
    "x=torch.reshape(x,(3*28*28,1))\n",
    "#%%%%%%%%%%%%%%%%%%%%%%%%%%%%%%%%%%%%%%%\n",
    "print(x.shape)\n",
    "\n",
    "#%%%%%%%%%%%%%%%%%%%%%%%%%%%%%%%%%%%%%%%\n",
    "# 设计代码的位置\n",
    "def sigmoid(x):\n",
    "    return 1. / (1 + torch.exp(-x))\n",
    "A=sigmoid(x)\n",
    "print(A[6])\n",
    "\n",
    "#%%%%%%%%%%%%%%%%%%%%%%%%%%%%%%%%%%%%%%%"
   ],
   "outputs": [
    {
     "output_type": "stream",
     "name": "stdout",
     "text": [
      "torch.Size([2352, 1])\n",
      "tensor([0.7311])\n"
     ]
    }
   ],
   "metadata": {}
  },
  {
   "cell_type": "markdown",
   "source": [
    "###  (3) 在二分类问题中，神经网络最后输出层的激活函数是什么？(选择题 2分)\n",
    "- a.tanh \n",
    "- b.ReLU\n",
    "- c.Leaky ReLU\n",
    "- d.sigmoid\n",
    "\n",
    "答案： D"
   ],
   "metadata": {}
  },
  {
   "cell_type": "markdown",
   "source": [
    "### (4) “神经网络后面层处理的特征更加复杂抽象”，该说法是否正确？(判断题 2分)\n",
    "- a.正确\n",
    "- b.错误\n",
    "\n",
    "答案: A"
   ],
   "metadata": {}
  },
  {
   "cell_type": "markdown",
   "source": [
    "### (5) 下面哪些是超参数？（多选题 3分）\n",
    "- a. 神经网络的层数\n",
    "- b. 神经元的线性变换矩阵和偏置\n",
    "- c. 选定的激活函数\n",
    "- d. 优化算法的学习率\n",
    "- e. 交叉熵损失函数\n",
    "- f. Epoches 次数\n",
    "\n",
    "答案： ACDF\n",
    "\n",
    " 神经网路中的超参数主要包括1. 学习率 ηη，2. 正则化参数 λλ，3. 神经网络的层数 LL，4. 每一个隐层中神经元的个数 jj，5. 学习的回合数EpochEpoch，6. 小批量数据 minibatchminibatch 的大小，7. 输出神经元的编码方式，8. 代价函数的选择，9. 权重初始化的方法，10. 神经元激活函数的种类，11.参加训练模型数据的规模 这十一类超参数。"
   ],
   "metadata": {}
  },
  {
   "cell_type": "markdown",
   "source": [
    "### (6) “在$k$层的前向传播过程中，需要确定$k$层中的激活函数（Sigmoid，tanh，ReLU等）来计算神经元的输出， 在反向传播时，可忽略第$k$层的激活函数，仅计算线性矩阵的梯度”，该说法是否正确？（判断题2分）\n",
    "\n",
    "- a.正确\n",
    "- b.错误\n",
    "\n",
    "答案: B"
   ],
   "metadata": {}
  },
  {
   "cell_type": "markdown",
   "source": [
    "### （7） 训练好的神经网络模型在哪类测试集上具有更好的泛化能力？（选择题 2分）\n",
    "- a. 测试集的样本噪声比较小\n",
    "- b. 测试集的样本与训练集的样本分布相同\n",
    "- c. 测试集的样本来源与同一分布，但可以与训练集样本的分布具有显著的差异\n",
    "- d. 泛化能力与测试集的样本无关\n",
    "\n",
    "答案：  B"
   ],
   "metadata": {}
  },
  {
   "cell_type": "markdown",
   "source": [
    "### （8）在神经网络模型的偏差-方差现象中，选择可以减少方差或过拟合的策略？(多选题 3分)\n",
    "- a. $L_1$ 正则化 \n",
    "- b. 增加训练样本数\n",
    "- c. 增加神经网络的层数\n",
    "- d. 把激活函数Sigmoid修改为ReLU\n",
    "- e. 减少学习率\n",
    "- f. Dropout\n",
    "\n",
    "答案：ABF"
   ],
   "metadata": {}
  },
  {
   "cell_type": "markdown",
   "source": [
    "### (9) 在优化神经网络时，关于mini-batch的正确描述？（选择题 2分）\n",
    "- a. 在不同的mini-batch下，不需要显式地进行循环，就可以实现mini-batch梯度下降，从而使算法同时处理所有的数据。\n",
    "- b. 使用mini-batch梯度下降训练的时间（一次训练完整个训练集）比使用梯度下降训练的时间要快。\n",
    "- c. mini-batch梯度下降（在单个mini-batch上计算）的一次迭代快于梯度下降的迭代。\n",
    "- d. mini-batch梯度下降算法不会导致损失函数（loss）振荡。\n",
    "\n",
    "答案： C"
   ],
   "metadata": {}
  },
  {
   "cell_type": "markdown",
   "source": [
    "### (10) 在训练深度神经网络时，可采用哪些技术来减少训练时间来获得同样的精度？（多选题，3分）\n",
    "- a. 所有权重初始化为0 \n",
    "- b. 对权重采用随机初始化\n",
    "- c. 调整学习率到合适的值\n",
    "- d. 调整mini-batch的大小\n",
    "- e. 使用Adam，RMSProp,AdaGrad等自适应算法\n",
    "- f. 改变损失函数\n",
    "\n",
    "答： BCDE"
   ],
   "metadata": {}
  },
  {
   "cell_type": "markdown",
   "source": [
    "### （11）“神经网络所有超参数对训练模型的精度都会产生较大影响，因而每一个超参数均应该设置到最优值”，该说法是否正确？（判断题2分）\n",
    "\n",
    "- a.正确\n",
    "- b.错误\n",
    "\n",
    "答案:B"
   ],
   "metadata": {}
  },
  {
   "cell_type": "markdown",
   "source": [
    "### （12） 假设你的输入是一个300×300的彩色（RGB）图像，而你没有使用卷积神经网络。 如果第一个隐藏层有100个神经元，每个神经元与输入层进行全连接，那么这个隐藏层有多少个参数（包括偏置参数）？（选择题 2分）\n",
    "- a. 9,000,001\n",
    "- b. 9,000,100\n",
    "- c. 27,000,001\n",
    "- d. 27,000,100\n",
    "\n",
    "答案：  D"
   ],
   "metadata": {}
  },
  {
   "cell_type": "markdown",
   "source": [
    "### (13）假设你的输入是300×300彩色（RGB）图像，并且你使用卷积层和100个过滤器，每个过滤器都是5×5的大小，请问这个隐藏层有多少个参数（包括偏置参数）?（选择题 2分）\n",
    "- a. 2501\n",
    "- b. 2600\n",
    "- c. 7500\n",
    "- d. 7600\n",
    "\n",
    "答案：  D"
   ],
   "metadata": {}
  },
  {
   "cell_type": "markdown",
   "source": [
    "### (14）假设一个32x32x16的输入，使用步幅为2、过滤器大小为2的最大化池操作，请问输出是多少?（选择题 2分）\n",
    "- a. 15x15x16\n",
    "- b. 16x16x8\n",
    "- c. 16x16x16\n",
    "- d. 32x32x8\n",
    "\n",
    "答案：C"
   ],
   "metadata": {}
  },
  {
   "cell_type": "markdown",
   "source": [
    "### (15) “池化（pooling layer）没有参数，因而不影响反向传播的计算”，该说法是否正确？（判断题2分）\n",
    "\n",
    "- a.正确\n",
    "- b.错误\n",
    "\n",
    "答案: B"
   ],
   "metadata": {}
  },
  {
   "cell_type": "markdown",
   "source": [
    "### （16） 关于卷积神经网络中的参数共享机制，下面哪些说话是正确的？ （多选题，3分）\n",
    "- a. 它减少了参数的总数，从而减少过拟合。\n",
    "- b. 它为一项任务学习的参数可直接迁移到不同的任务进行共享（迁移学习）。\n",
    "- c. 它保证了梯度下降将许多参数设置为零，从而使得连接稀疏。\n",
    "- e. 它有效地增加了模型的泛化能力\n",
    "- f. 它使得在整个输入值的多个位置使用特征检测器。\n",
    "\n",
    "答案：  ABEF"
   ],
   "metadata": {}
  },
  {
   "cell_type": "markdown",
   "source": [
    "### (17)  卷积神经网络中“稀疏连接”的优势是什么？（选择题 2分）\n",
    "- a. 正则化导致梯度下降将许多参数设置为零。\n",
    "- b. 卷积网络中的每一层只连接到另外两层。\n",
    "- c. 每个过滤器都连接到上一层的每个通道。\n",
    "- d. 下一层中的每个激活只依赖于前一层的少量激活。\n",
    "\n",
    "答案：   D"
   ],
   "metadata": {}
  },
  {
   "cell_type": "markdown",
   "source": [
    "### （18）  在构建深度卷积神经网络时，下面哪些策略是比较有效的？（多选题，3分）\n",
    "- a. 多个池化层后面跟着的是一个卷积层。\n",
    "- b. 多个卷积层后面跟着的是一个池化层。\n",
    "- c. 全连接层（FC）位于最后的几层。\n",
    "- d. 全连接层（FC）位于开始的几层。\n",
    "\n",
    "答案： BC"
   ],
   "metadata": {}
  },
  {
   "cell_type": "markdown",
   "source": [
    "### (19)  循环神经网络中记忆单元的作用是什么？（选择题 2分）\n",
    "- a. 记忆单元可以增加模型的参数，获得更深的模型。\n",
    "- b. 记忆单元可保存历史数据信息，提高模型的泛化能力。\n",
    "- c. 记忆单元可以获得时间序列的前后相关依赖关系。\n",
    "- d. 记忆单元可有效地解决网络过程中的梯度爆炸问题。\n",
    "\n",
    "答案： C"
   ],
   "metadata": {}
  },
  {
   "cell_type": "markdown",
   "source": [
    "### (20)  循环神经网络训练过程中解决梯度爆炸或消失问题的策略？（多择题 3分）\n",
    "- a. 增加训练数据集。\n",
    "- b. 网络训练过程中采用梯度截断(Gradient clipping)手段。\n",
    "- c. 增加网络的深度。\n",
    "- d. 把网络结构中的基本单元修改为LSTM单元。\n",
    "- e. 把网络结构中的基本单元修改为GRU单元。\n",
    "\n",
    "答案：  BDE"
   ],
   "metadata": {}
  },
  {
   "cell_type": "markdown",
   "source": [
    "## （二）分类案例（依据要求补充代码  23分）\n",
    "1.数据集描述。\n",
    "  MNIST数据集由图灵奖获得者Yann LeCun搜集，是一个大型的手写体数字数据库，通常用于训练各种图像处理系统，也被广泛用于机器学习领域的训练和测试。MNIST数据库中的图像集是NIST（National Institute of Standards and Technology）的两个数据库的组合：专用数据库1和特殊数据库3。数据集是有250人手写数字组成，一半是高中生，一半是美国人口普查局。\n",
    "\n",
    "MNIST数据集共有训练数据60000张图片、测试数据10000图片。每张图像的大小为28*28（像素），每张图像都为灰度图像。\n",
    "\n",
    "MNIST数据集包含4个文件，train文件是训练数据集，t10k是测试数据集，images文件是图像文件，lables文件是对应的标签文件。\n",
    "\n",
    "train-images-idx3-ubyte.gz: training set images (9912422 bytes)\n",
    "\n",
    "train-labels-idx1-ubyte.gz: training set labels (28881 bytes)\n",
    "\n",
    "t10k-images-idx3-ubyte.gz: test set images (1648877 bytes)\n",
    "\n",
    "t10k-labels-idx1-ubyte.gz: test set labels (4542 bytes)\n",
    "\n",
    "\n",
    "2.任务描述：利用MNIST数据集中的6万中图片训练一个深度网络，使得训练的模型在测试集上的精度到达95%以上。\n",
    "\n",
    "3.模型：采用深度卷积神经网络模型。\n",
    "\n",
    "4.算法：采用Adam优化求解器。\n"
   ],
   "metadata": {}
  },
  {
   "cell_type": "code",
   "execution_count": 3,
   "source": [
    "# 超参数配置\n",
    "epoches = 3  # 迭代次数\n",
    "batch_size = 64  # mini-batch 数据块的尺寸大小\n",
    "learning_rate = 0.01  # 梯度下降算法的学习率\n",
    "batchsz = 15\n"
   ],
   "outputs": [],
   "metadata": {}
  },
  {
   "cell_type": "code",
   "execution_count": 4,
   "source": [
    "# 程序设计1 （4分）\n",
    "# 读入MNIST数据集,并利用torch.utils.data.DataLoader设计训练集和测试集\n",
    "#%%%%%%%%%%%%%%%%%%%%%%%%%%%%%%%%%%%%%%%\n",
    "# 设计代码的位置\n",
    "from torchvision import datasets, transforms\n",
    "# Load dataset\n",
    "# train data\n",
    "train_dataset = datasets.MNIST(root= './data',download = False,train = True,\n",
    "                              transform = transforms.Compose([\n",
    "                                  transforms.ToTensor(),\n",
    "                                  transforms.Normalize((0.1307,),(0.3081,)) \n",
    "                              ]))\n",
    "\n",
    "\n",
    "# test data\n",
    "test_dataset = datasets.MNIST(root= './data',download = False,train = False,\n",
    "                              transform = transforms.Compose([\n",
    "                                  transforms.ToTensor(),\n",
    "                                  transforms.Normalize((0.1307,),(0.3081,)) \n",
    "                              ]))\n",
    "train_loader = torch.utils.data.DataLoader(train_dataset,batch_size =batchsz, shuffle = True)\n",
    "test_loader = torch.utils.data.DataLoader(test_dataset, batch_size =batchsz, shuffle = True)\n",
    "#%%%%%%%%%%%%%%%%%%%%%%%%%%%%%%%%%%%%%%%"
   ],
   "outputs": [],
   "metadata": {
    "scrolled": true
   }
  },
  {
   "cell_type": "code",
   "execution_count": 5,
   "source": [
    "# 绘制单个数据样本\n",
    "data = iter(train_loader) # 确定数据的索引\n",
    "(a,b) = next(data) # 获得索引的下一个数据\n",
    "b = a.numpy() # 转换为numpy格式，方便绘图\n",
    "#c = b[3,0,...] # 取出一个图片的数据\n",
    "c = b[0,0,...] \n",
    "figure = plt.figure()\n",
    "plt.imshow(c,cmap = 'gray')\n",
    "plt.show()"
   ],
   "outputs": [
    {
     "output_type": "display_data",
     "data": {
      "image/png": "[encoded data removed]",
      "text/plain": [
       "<Figure size 432x288 with 1 Axes>"
      ]
     },
     "metadata": {
      "needs_background": "light"
     }
    }
   ],
   "metadata": {}
  },
  {
   "cell_type": "code",
   "execution_count": 25,
   "source": [
    "# 绘制多个数据样本\n",
    "data = iter(train_loader) # 确定数据的索引\n",
    "\n",
    "figure = plt.figure()\n",
    "for i in range(64):\n",
    "    plt.subplot(8,8, i+1)\n",
    "    plt.subplots_adjust(wspace = 0.1, hspace = 0.1)\n",
    "    (a,b) = next(data) # 获得索引的下一个数据\n",
    "    b = a.numpy() # 转换为numpy格式，方便绘图\n",
    "    c = b[0,0,...] # 取出一个图片的数据\n",
    "    plt.imshow(c,cmap = 'gray')\n",
    "    plt.axis('off')\n",
    "plt.show()"
   ],
   "outputs": [
    {
     "output_type": "display_data",
     "data": {
      "image/png": "[encoded data removed]",
      "text/plain": [
       "<Figure size 432x288 with 64 Axes>"
      ]
     },
     "metadata": {
      "needs_background": "light"
     }
    }
   ],
   "metadata": {}
  },
  {
   "cell_type": "code",
   "execution_count": 9,
   "source": [
    "# 深度卷积网络模型设计\n",
    "class Flatten(nn.Module):\n",
    "    '''\n",
    "    定义展平运算，为卷积层输出和全连接层的输入进行数据转换\n",
    "    '''\n",
    "    def __init__(self):\n",
    "        super(Flatten,self).__init__()\n",
    "        \n",
    "    def forward(self,input):\n",
    "        return input.view(input.size(0),-1)\n",
    "\n",
    "\n",
    "class DeepConvolutionNetwork(nn.Module):\n",
    "    def __init__(self):\n",
    "        super(DeepConvolutionNetwork,self).__init__()\n",
    "        self.conv1 = nn.Sequential(\n",
    "            nn.Conv2d(in_channels=1,out_channels=10,kernel_size=5,stride=1,padding=1),\n",
    "            nn.MaxPool2d(2),\n",
    "            nn.ReLU(),\n",
    "            nn.BatchNorm2d(10)\n",
    "        )\n",
    "        \n",
    "        # 程序设计2 （5分）\n",
    "        # 下面设计一个卷积层神经元：\n",
    "        #    输入通道为10，输出通道为20，卷积核为5x5, 滑动步长为1，边缘填充数为1，\n",
    "        #    采用窗口宽度为2x2的最大池化操作，激活函数为ReLU,\n",
    "        #    最后为BatchNorm运算\n",
    "        #%%%%%%%%%%%%%%%%%%%%%%%%%%%%%%%%%%%%%%%\n",
    "        # 设计代码的位置\n",
    "        self.conv2 = nn.Sequential(\n",
    "            nn.Conv2d(in_channels=10,out_channels=20,kernel_size=5,stride=1,padding=1),\n",
    "            nn.MaxPool2d(2),\n",
    "            nn.ReLU(),\n",
    "            nn.BatchNorm2d(20)\n",
    "        )\n",
    "        #%%%%%%%%%%%%%%%%%%%%%%%%%%%%%%%%%%%%%%%\n",
    "        \n",
    "        self.FlattenOperation = Flatten()\n",
    "        \n",
    "        self.fc1 = nn.Sequential(\n",
    "            nn.Linear(500,60),\n",
    "            nn.Dropout(0.5),\n",
    "            nn.ReLU()\n",
    "        )\n",
    "        \n",
    "        # 程序设计3 （3分）\n",
    "        # 下面设计一个线性层神经元：\n",
    "        #    输出为20，采用Dropout运算，激活函数为ReLU；\n",
    "        #%%%%%%%%%%%%%%%%%%%%%%%%%%%%%%%%%%%%%%%\n",
    "        # 设计代码的位置\n",
    "        self.fc2 = nn.Sequential(\n",
    "            nn.Linear(60,20),\n",
    "            nn.Dropout(0.5),\n",
    "            nn.ReLU()\n",
    "        )\n",
    "        #%%%%%%%%%%%%%%%%%%%%%%%%%%%%%%%%%%%%%%%\n",
    "        \n",
    "        self.fc3 = nn.Linear(20,10)\n",
    "    \n",
    "    # 程序设计4 （5分）\n",
    "    # 设计前向传播模型：模型构成如下：\n",
    "    #    Conv1(卷积层1)+conv2（卷积层2）+ flatten （展平层）+ fc1（全连接层1） + fc2(全连接层2) + fc3(线性层)\n",
    "    def forward(self,x):\n",
    "    #%%%%%%%%%%%%%%%%%%%%%%%%%%%%%%%%%%%%%%%\n",
    "    # 设计代码的位置\n",
    "      x= self.conv1(x)  \n",
    "      x= self.conv2(x)\n",
    "      x= self.FlattenOperation(x)\n",
    "      x= self.fc1(x)\n",
    "      x= self.fc2(x)\n",
    "      x= self.fc3(x)\n",
    "    #%%%%%%%%%%%%%%%%%%%%%%%%%%%%%%%%%%%%%%%\n",
    "      return x\n",
    "        "
   ],
   "outputs": [],
   "metadata": {}
  },
  {
   "cell_type": "code",
   "execution_count": 10,
   "source": [
    "model = DeepConvolutionNetwork()\n",
    "\n",
    "# 程序设计5 （2分）\n",
    "# 设计交叉熵损失函数\n",
    "#%%%%%%%%%%%%%%%%%%%%%%%%%%%%%%%%%%%%%%%\n",
    "# 设计代码的位置\n",
    "lossfun = nn.CrossEntropyLoss()\n",
    "#%%%%%%%%%%%%%%%%%%%%%%%%%%%%%%%%%%%%%%%\n",
    "\n",
    "# 程序设计6 （2分）\n",
    "# 设计Adam优化器，采用学习率learning_rate, L2正则的权重衰减系数为0.01)\n",
    "#%%%%%%%%%%%%%%%%%%%%%%%%%%%%%%%%%%%%%%%\n",
    "# 设计代码的位置\n",
    "optimizer = optim.Adam(model.parameters(),lr=learning_rate,betas=(0.9, 0.99))\n",
    "#%%%%%%%%%%%%%%%%%%%%%%%%%%%%%%%%%%%%%%%\n",
    "\n",
    "print(model)\n"
   ],
   "outputs": [
    {
     "output_type": "stream",
     "name": "stdout",
     "text": [
      "DeepConvolutionNetwork(\n",
      "  (conv1): Sequential(\n",
      "    (0): Conv2d(1, 10, kernel_size=(5, 5), stride=(1, 1), padding=(1, 1))\n",
      "    (1): MaxPool2d(kernel_size=2, stride=2, padding=0, dilation=1, ceil_mode=False)\n",
      "    (2): ReLU()\n",
      "    (3): BatchNorm2d(10, eps=1e-05, momentum=0.1, affine=True, track_running_stats=True)\n",
      "  )\n",
      "  (conv2): Sequential(\n",
      "    (0): Conv2d(10, 20, kernel_size=(5, 5), stride=(1, 1), padding=(1, 1))\n",
      "    (1): MaxPool2d(kernel_size=2, stride=2, padding=0, dilation=1, ceil_mode=False)\n",
      "    (2): ReLU()\n",
      "    (3): BatchNorm2d(20, eps=1e-05, momentum=0.1, affine=True, track_running_stats=True)\n",
      "  )\n",
      "  (FlattenOperation): Flatten()\n",
      "  (fc1): Sequential(\n",
      "    (0): Linear(in_features=500, out_features=60, bias=True)\n",
      "    (1): Dropout(p=0.5, inplace=False)\n",
      "    (2): ReLU()\n",
      "  )\n",
      "  (fc2): Sequential(\n",
      "    (0): Linear(in_features=60, out_features=20, bias=True)\n",
      "    (1): Dropout(p=0.5, inplace=False)\n",
      "    (2): ReLU()\n",
      "  )\n",
      "  (fc3): Linear(in_features=20, out_features=10, bias=True)\n",
      ")\n"
     ]
    }
   ],
   "metadata": {}
  },
  {
   "cell_type": "code",
   "execution_count": 45,
   "source": [
    "lossRecord = []\n",
    "for epoch in range(epoches):\n",
    "    model.train() \n",
    "    for batch_idx, (x,label) in enumerate(train_loader):\n",
    "        #x,label = x.to(device), label.to(device)\n",
    "        logits = model(x)\n",
    "        loss = lossfun(logits,label)\n",
    "        lossRecord.append(loss.detach().numpy())\n",
    "        \n",
    "        \n",
    "        optimizer.zero_grad()\n",
    "        # 程序设计7 （2分）\n",
    "        # 调用后向传播算法，利用Adam优化器进行更新\n",
    "        #%%%%%%%%%%%%%%%%%%%%%%%%%%%%%%%%%%%%%%%\n",
    "        # 设计代码的位置\n",
    "        loss.backward()\n",
    "        optimizer.step()\n",
    "        #%%%%%%%%%%%%%%%%%%%%%%%%%%%%%%%%%%%%%%%\n",
    "\n",
    "        if batch_idx % 100 == 0:\n",
    "            print('Train Epoch:{} [{}/{} {:.0f}%)]\\tLoss: {:.6f}'.format(\n",
    "                epoch, batch_idx*len(x), len(train_loader.dataset),\n",
    "                100.*batch_idx/len(train_loader), loss.item() ))\n",
    "    \n",
    "    model.eval()\n",
    "    with torch.no_grad():\n",
    "        test_correct = 0\n",
    "        total_num = 0\n",
    "        for x, label in test_loader:\n",
    "            #x,label = x.to(device), label.to(device)\n",
    "            \n",
    "            logits = model(x)\n",
    "            pred = logits.argmax(dim =1)\n",
    "            test_correct += torch.eq(pred,label).float().sum().item()\n",
    "            total_num += x.size(0)\n",
    "        \n",
    "        acc = test_correct / total_num\n",
    "        print('test epoch',epoch, 'test classification acc:', acc)\n",
    "\n"
   ],
   "outputs": [
    {
     "output_type": "stream",
     "name": "stdout",
     "text": [
      "Train Epoch:0 [0/60000 0%)]\tLoss: 2.378600\n",
      "Train Epoch:0 [1500/60000 2%)]\tLoss: 1.192225\n",
      "Train Epoch:0 [3000/60000 5%)]\tLoss: 1.834092\n",
      "Train Epoch:0 [4500/60000 8%)]\tLoss: 0.808726\n",
      "Train Epoch:0 [6000/60000 10%)]\tLoss: 1.154893\n",
      "Train Epoch:0 [7500/60000 12%)]\tLoss: 1.316797\n",
      "Train Epoch:0 [9000/60000 15%)]\tLoss: 0.859053\n",
      "Train Epoch:0 [10500/60000 18%)]\tLoss: 0.941799\n",
      "Train Epoch:0 [12000/60000 20%)]\tLoss: 0.596275\n",
      "Train Epoch:0 [13500/60000 22%)]\tLoss: 1.786798\n",
      "Train Epoch:0 [15000/60000 25%)]\tLoss: 0.930409\n",
      "Train Epoch:0 [16500/60000 28%)]\tLoss: 1.829315\n",
      "Train Epoch:0 [18000/60000 30%)]\tLoss: 0.727674\n",
      "Train Epoch:0 [19500/60000 32%)]\tLoss: 0.517971\n",
      "Train Epoch:0 [21000/60000 35%)]\tLoss: 0.902616\n",
      "Train Epoch:0 [22500/60000 38%)]\tLoss: 0.310051\n",
      "Train Epoch:0 [24000/60000 40%)]\tLoss: 0.368599\n",
      "Train Epoch:0 [25500/60000 42%)]\tLoss: 0.658182\n",
      "Train Epoch:0 [27000/60000 45%)]\tLoss: 0.639108\n",
      "Train Epoch:0 [28500/60000 48%)]\tLoss: 0.480556\n",
      "Train Epoch:0 [30000/60000 50%)]\tLoss: 0.513975\n",
      "Train Epoch:0 [31500/60000 52%)]\tLoss: 0.344544\n",
      "Train Epoch:0 [33000/60000 55%)]\tLoss: 0.813740\n",
      "Train Epoch:0 [34500/60000 58%)]\tLoss: 0.061439\n",
      "Train Epoch:0 [36000/60000 60%)]\tLoss: 1.220795\n",
      "Train Epoch:0 [37500/60000 62%)]\tLoss: 0.368402\n",
      "Train Epoch:0 [39000/60000 65%)]\tLoss: 0.229749\n",
      "Train Epoch:0 [40500/60000 68%)]\tLoss: 0.834942\n",
      "Train Epoch:0 [42000/60000 70%)]\tLoss: 0.376381\n",
      "Train Epoch:0 [43500/60000 72%)]\tLoss: 0.795036\n",
      "Train Epoch:0 [45000/60000 75%)]\tLoss: 0.592760\n",
      "Train Epoch:0 [46500/60000 78%)]\tLoss: 0.444738\n",
      "Train Epoch:0 [48000/60000 80%)]\tLoss: 0.299201\n",
      "Train Epoch:0 [49500/60000 82%)]\tLoss: 0.471968\n",
      "Train Epoch:0 [51000/60000 85%)]\tLoss: 0.214560\n",
      "Train Epoch:0 [52500/60000 88%)]\tLoss: 0.719782\n",
      "Train Epoch:0 [54000/60000 90%)]\tLoss: 0.389789\n",
      "Train Epoch:0 [55500/60000 92%)]\tLoss: 0.281156\n",
      "Train Epoch:0 [57000/60000 95%)]\tLoss: 0.332449\n",
      "Train Epoch:0 [58500/60000 98%)]\tLoss: 0.666726\n",
      "test epoch 0 test classification acc: 0.9621\n",
      "Train Epoch:1 [0/60000 0%)]\tLoss: 0.635104\n",
      "Train Epoch:1 [1500/60000 2%)]\tLoss: 0.784938\n",
      "Train Epoch:1 [3000/60000 5%)]\tLoss: 0.510423\n",
      "Train Epoch:1 [4500/60000 8%)]\tLoss: 0.794200\n",
      "Train Epoch:1 [6000/60000 10%)]\tLoss: 1.429643\n",
      "Train Epoch:1 [7500/60000 12%)]\tLoss: 0.447656\n",
      "Train Epoch:1 [9000/60000 15%)]\tLoss: 0.553344\n",
      "Train Epoch:1 [10500/60000 18%)]\tLoss: 0.336592\n",
      "Train Epoch:1 [12000/60000 20%)]\tLoss: 0.192216\n",
      "Train Epoch:1 [13500/60000 22%)]\tLoss: 0.246825\n",
      "Train Epoch:1 [15000/60000 25%)]\tLoss: 0.297555\n",
      "Train Epoch:1 [16500/60000 28%)]\tLoss: 0.593712\n",
      "Train Epoch:1 [18000/60000 30%)]\tLoss: 0.382365\n",
      "Train Epoch:1 [19500/60000 32%)]\tLoss: 1.280306\n",
      "Train Epoch:1 [21000/60000 35%)]\tLoss: 0.513627\n",
      "Train Epoch:1 [22500/60000 38%)]\tLoss: 0.355965\n",
      "Train Epoch:1 [24000/60000 40%)]\tLoss: 0.563938\n",
      "Train Epoch:1 [25500/60000 42%)]\tLoss: 0.305142\n",
      "Train Epoch:1 [27000/60000 45%)]\tLoss: 0.392637\n",
      "Train Epoch:1 [28500/60000 48%)]\tLoss: 0.575033\n",
      "Train Epoch:1 [30000/60000 50%)]\tLoss: 0.480010\n",
      "Train Epoch:1 [31500/60000 52%)]\tLoss: 0.364170\n",
      "Train Epoch:1 [33000/60000 55%)]\tLoss: 0.626554\n",
      "Train Epoch:1 [34500/60000 58%)]\tLoss: 5.410975\n",
      "Train Epoch:1 [36000/60000 60%)]\tLoss: 1.154499\n",
      "Train Epoch:1 [37500/60000 62%)]\tLoss: 0.462634\n",
      "Train Epoch:1 [39000/60000 65%)]\tLoss: 0.747244\n",
      "Train Epoch:1 [40500/60000 68%)]\tLoss: 0.176857\n",
      "Train Epoch:1 [42000/60000 70%)]\tLoss: 0.381927\n",
      "Train Epoch:1 [43500/60000 72%)]\tLoss: 0.556294\n",
      "Train Epoch:1 [45000/60000 75%)]\tLoss: 0.455935\n",
      "Train Epoch:1 [46500/60000 78%)]\tLoss: 0.735246\n",
      "Train Epoch:1 [48000/60000 80%)]\tLoss: 2.096425\n",
      "Train Epoch:1 [49500/60000 82%)]\tLoss: 0.195843\n",
      "Train Epoch:1 [51000/60000 85%)]\tLoss: 1.214768\n",
      "Train Epoch:1 [52500/60000 88%)]\tLoss: 0.592074\n",
      "Train Epoch:1 [54000/60000 90%)]\tLoss: 0.168287\n",
      "Train Epoch:1 [55500/60000 92%)]\tLoss: 0.388783\n",
      "Train Epoch:1 [57000/60000 95%)]\tLoss: 0.428951\n",
      "Train Epoch:1 [58500/60000 98%)]\tLoss: 0.912211\n",
      "test epoch 1 test classification acc: 0.9521\n",
      "Train Epoch:2 [0/60000 0%)]\tLoss: 0.537140\n",
      "Train Epoch:2 [1500/60000 2%)]\tLoss: 1.300688\n",
      "Train Epoch:2 [3000/60000 5%)]\tLoss: 0.343715\n",
      "Train Epoch:2 [4500/60000 8%)]\tLoss: 0.525150\n",
      "Train Epoch:2 [6000/60000 10%)]\tLoss: 0.640951\n",
      "Train Epoch:2 [7500/60000 12%)]\tLoss: 0.192739\n",
      "Train Epoch:2 [9000/60000 15%)]\tLoss: 0.313694\n",
      "Train Epoch:2 [10500/60000 18%)]\tLoss: 0.828569\n",
      "Train Epoch:2 [12000/60000 20%)]\tLoss: 1.834435\n",
      "Train Epoch:2 [13500/60000 22%)]\tLoss: 0.181380\n",
      "Train Epoch:2 [15000/60000 25%)]\tLoss: 0.552382\n",
      "Train Epoch:2 [16500/60000 28%)]\tLoss: 0.054638\n",
      "Train Epoch:2 [18000/60000 30%)]\tLoss: 0.068987\n",
      "Train Epoch:2 [19500/60000 32%)]\tLoss: 0.501405\n",
      "Train Epoch:2 [21000/60000 35%)]\tLoss: 1.026191\n",
      "Train Epoch:2 [22500/60000 38%)]\tLoss: 1.939297\n",
      "Train Epoch:2 [24000/60000 40%)]\tLoss: 0.553345\n",
      "Train Epoch:2 [25500/60000 42%)]\tLoss: 0.870286\n",
      "Train Epoch:2 [27000/60000 45%)]\tLoss: 0.455791\n",
      "Train Epoch:2 [28500/60000 48%)]\tLoss: 0.823885\n",
      "Train Epoch:2 [30000/60000 50%)]\tLoss: 0.515989\n",
      "Train Epoch:2 [31500/60000 52%)]\tLoss: 0.481129\n",
      "Train Epoch:2 [33000/60000 55%)]\tLoss: 0.343036\n",
      "Train Epoch:2 [34500/60000 58%)]\tLoss: 0.345212\n",
      "Train Epoch:2 [36000/60000 60%)]\tLoss: 0.429923\n",
      "Train Epoch:2 [37500/60000 62%)]\tLoss: 1.159437\n",
      "Train Epoch:2 [39000/60000 65%)]\tLoss: 0.738673\n",
      "Train Epoch:2 [40500/60000 68%)]\tLoss: 0.585829\n",
      "Train Epoch:2 [42000/60000 70%)]\tLoss: 0.529549\n",
      "Train Epoch:2 [43500/60000 72%)]\tLoss: 2.085780\n",
      "Train Epoch:2 [45000/60000 75%)]\tLoss: 1.194428\n",
      "Train Epoch:2 [46500/60000 78%)]\tLoss: 0.133535\n",
      "Train Epoch:2 [48000/60000 80%)]\tLoss: 0.376379\n",
      "Train Epoch:2 [49500/60000 82%)]\tLoss: 2.228767\n",
      "Train Epoch:2 [51000/60000 85%)]\tLoss: 0.974697\n",
      "Train Epoch:2 [52500/60000 88%)]\tLoss: 0.134248\n",
      "Train Epoch:2 [54000/60000 90%)]\tLoss: 0.471601\n",
      "Train Epoch:2 [55500/60000 92%)]\tLoss: 2.547011\n",
      "Train Epoch:2 [57000/60000 95%)]\tLoss: 0.488639\n",
      "Train Epoch:2 [58500/60000 98%)]\tLoss: 0.455853\n",
      "test epoch 2 test classification acc: 0.9529\n"
     ]
    }
   ],
   "metadata": {}
  },
  {
   "cell_type": "code",
   "execution_count": 46,
   "source": [
    "# 绘制损失曲线\n",
    "figure = plt.figure(figsize = (6,4), dpi=100)\n",
    "plt.plot(np.arange(len(lossRecord)),lossRecord)\n",
    "plt.xlabel('Epochs')\n",
    "plt.ylabel('Loss value')\n",
    "plt.title('loss curve')\n",
    "plt.grid(alpha=0.6)\n",
    "plt.show()"
   ],
   "outputs": [
    {
     "output_type": "display_data",
     "data": {
      "image/png": "[encoded data removed]",
      "text/plain": [
       "<Figure size 600x400 with 1 Axes>"
      ]
     },
     "metadata": {
      "needs_background": "light"
     }
    }
   ],
   "metadata": {}
  }
 ],
 "metadata": {
  "kernelspec": {
   "name": "python3",
   "display_name": "Python 3.8.11 64-bit ('forpylearn': conda)"
  },
  "language_info": {
   "codemirror_mode": {
    "name": "ipython",
    "version": 3
   },
   "file_extension": ".py",
   "mimetype": "text/x-python",
   "name": "python",
   "nbconvert_exporter": "python",
   "pygments_lexer": "ipython3",
   "version": "3.8.11"
  },
  "interpreter": {
   "hash": "389f2cfaf66ee98cefd6c178d5ac88972932bfe61afe46bb81b3bd8a45be44af"
  }
 },
 "nbformat": 4,
 "nbformat_minor": 2
}